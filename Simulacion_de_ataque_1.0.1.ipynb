{
 "cells": [
  {
   "cell_type": "markdown",
   "id": "eb7035ba-76f9-4b5c-860f-79b394f5a789",
   "metadata": {},
   "source": [
    "<p style=\"text-align: center;\"><span style=\"color: #ff0000;\"><strong><span style=\"font-size: x-large;\">\n",
    "    ANEXO XXX: ALGORITMOS PKE</span></strong></span></p>\n",
    "\n",
    "<p style=\"text-align: center;\"><span style=\"color: black;\"><strong><span style=\"font-size: x-large;\">Realizado por:</span></strong></span></p>\n",
    "<p style=\"text-align: center;\"><span style=\"color: black;\"><strong><span style=\"font-size: x-large;\">Gabriel Vacaro Goytia</span></strong></span></p>\n",
    "<p style=\"text-align: center;\"><span style=\"color: black;\"><strong><span style=\"font-size: x-large;\">Ignacio Warleta Murcia</span></strong></span></p>"
   ]
  },
  {
   "cell_type": "markdown",
   "id": "df62b8b8-8cce-4367-aa56-ce3b9477298b",
   "metadata": {},
   "source": [
    "Este notebook contiene cuatro implementaciones de ataques con el objetivo de simular los pasos que un atacante seguiría para romper la seguridad de un esquema de cifrado Kyber-KEM.\n",
    "\n",
    "Organizamos el anexo según el siguiente índice:"
   ]
  },
  {
   "cell_type": "markdown",
   "id": "d7ec3796-72c9-4fb0-9d58-04688eebaab5",
   "metadata": {},
   "source": [
    "# Índice\n",
    "\n",
    "1. [Introducción](#1.-Introducción)\n",
    "2. [Configuración previa](#2.-Configuracion-previa)\n",
    "3. [Algoritmo de generación de claves](#3.-Algoritmo-de-generacion-de-claves)\n",
    "4. [Algoritmo de cifrado](#4.-Algoritmo-de-cifrado)\n",
    "5. [Algoritmo de descifrado](#5.-Algoritmo-de-descifrado)\n",
    "6. [Ejemplo de uso](#6.-Ejemplo-de-uso)"
   ]
  },
  {
   "cell_type": "markdown",
   "id": "85028d54-5473-42b5-965d-c7673c4d0a69",
   "metadata": {},
   "source": [
    "---\n",
    "# 1. Introducción\n",
    "\n",
    "\n",
    "\n",
    "\n"
   ]
  },
  {
   "cell_type": "markdown",
   "id": "8cf7f4ec-77dc-4c7f-899f-bced453cd063",
   "metadata": {},
   "source": [
    "Este notebook cuenta 4 formas de atacar el sistema Kyber-KEM:\n",
    "\n",
    "- Ataque ingenuo <br>\n",
    "- Ataque basado en aproximación con mínimos cuadrados <br>\n",
    "- Ataque de reducción de redes\n",
    "- Ataque basado en aprendizaje automático\n",
    "\n",
    "El propósito de esta implementación es simula un intento de ataque en el que el atacante conoce los datos $(A, b)$ y pretende averiguar $s$. Primero, se genera un par de claves públicas y privada mediante la creación de una matriz $A$ y un vector secreto $s$, con un pequeño error $e$. La clave pública consta de $A$ y $b = A * s + e$ $mod$ $q$, mientras que la clave privada es $s$. \n"
   ]
  },
  {
   "cell_type": "markdown",
   "id": "31260c63-0d71-4dd1-9967-f6948f83a982",
   "metadata": {},
   "source": [
    "---\n",
    "# 2. Configuracion previa"
   ]
  },
  {
   "cell_type": "markdown",
   "id": "6d056542-08d0-4001-a8df-9220cb94de3b",
   "metadata": {},
   "source": [
    "A continuación, se muestra la configuración previa a ejecutar y los parámetros a definir."
   ]
  },
  {
   "cell_type": "code",
   "execution_count": 1,
   "id": "8a0f89bb-5102-440a-9527-1765a28c11a2",
   "metadata": {},
   "outputs": [],
   "source": [
    "#MODULOS A IMPORTAR\n",
    "import numpy as np\n",
    "import secrets\n",
    "from scipy.linalg import lstsq\n",
    "from itertools import product\n",
    "from scipy.spatial import distance\n",
    "from sklearn.linear_model import LogisticRegression"
   ]
  },
  {
   "cell_type": "code",
   "execution_count": 97,
   "id": "68c4d54a-c727-4964-b06b-43cde8a9ff22",
   "metadata": {},
   "outputs": [],
   "source": [
    "# Parámetros básicos\n",
    "q = 749  # Un número primo pequeño típico en Kyber es 3329\n",
    "k = 3  # Tamaño del vector/matriz (varía según los estándares Kyber-512, 768, 1024)\n",
    "mu_1 = 2.0  # Parámetro para la distribución de error más controlado (menor desviación estándar)"
   ]
  },
  {
   "cell_type": "code",
   "execution_count": 56,
   "id": "993eda1c-11cb-42e9-9ea5-4785c762e55b",
   "metadata": {},
   "outputs": [],
   "source": [
    "# Función para generar una semilla aleatoria\n",
    "def generate_seed(n=16):\n",
    "    return secrets.token_bytes(n)\n",
    "\n",
    "# Función para generar la matriz A de forma determinista\n",
    "def generate_matrix_A(seed, k, q):\n",
    "    np.random.seed(int.from_bytes(seed, \"big\") % (2**32))\n",
    "    return np.random.randint(0, q, size=(k, k))\n",
    "\n",
    "# Función para muestrear errores con distribución normal\n",
    "def sample_error(mu, k, q, seed=None):\n",
    "    if seed is not None:\n",
    "        np.random.seed(int.from_bytes(seed, \"big\") % (2**32))\n",
    "    return np.round(np.random.normal(0, mu, size=(k, 1))).astype(int) % q\n",
    "\n",
    "# Generación de claves públicas y privadas\n",
    "def key_generation():\n",
    "    seed_A = generate_seed()  # Generamos una semilla para la matriz A\n",
    "    A = generate_matrix_A(seed_A, k, q)  # Matriz A generada con la semilla\n",
    "    s = sample_error(mu_1, k, q)  # Vector secreto s\n",
    "    e = sample_error(mu_1, k, q)  # Vector de error e\n",
    "    b = (A @ s + e) % q  # Cálculo de b = A * s + e mod q\n",
    "    return (b, seed_A), s\n"
   ]
  },
  {
   "cell_type": "markdown",
   "id": "13566442-0302-4a7a-95b1-98073acede89",
   "metadata": {},
   "source": [
    "---\n",
    "## 3. Ataque ingenuo"
   ]
  },
  {
   "cell_type": "markdown",
   "id": "a2636095-a05f-4a35-9a2c-943aa702ee6e",
   "metadata": {},
   "source": [
    "Este código implementa un ataque ingenuo para intentar recuperar la clave secreta $s$ en el esquema Kyber resolviendo directamente el sistema de ecuaciones lineales $A * s = b $ $mod$ $q$. Utiliza la pseudoinversa de la matriz  $A$ (`np.linalg.pinv(A)`) para calcular una aproximación de $s$, redondea los valores y aplica la operación módulo $q$ para mantenerlos en el rango adecuado. Si la matriz $A$ no es invertible, se captura la excepción y se informa del error. Este método es poco efectivo en la práctica, ya que no tiene en cuenta la presencia de ruido (vector de error $e$), lo que dificulta la recuperación precisa de $s$.\n"
   ]
  },
  {
   "cell_type": "code",
   "execution_count": 57,
   "id": "71fae7a1-89e5-48f5-bf27-d0c746aa7df3",
   "metadata": {},
   "outputs": [],
   "source": [
    "# Ataque ingenuo: Resolver A * s = b mod q\n",
    "def naive_attack(A, b):\n",
    "    \"\"\"\n",
    "    Implementa un ataque ingenuo para intentar recuperar la clave secreta s \n",
    "    resolviendo directamente la ecuación A * s = b mod q.\n",
    "\n",
    "    Parámetros:\n",
    "    - A: Matriz pública generada en el esquema de cifrado.\n",
    "    - b: Vector resultado de la operación A * s + e mod q.\n",
    "\n",
    "    Retorna:\n",
    "    - Un vector estimado de s en el dominio ℤ_q si el ataque tiene éxito.\n",
    "    - None en caso de error (por ejemplo, si la matriz A no es invertible).\n",
    "    \"\"\"\n",
    "    print(\"\\nIntento de ataque ingenuo: Resolver el sistema A * s = b mod q\")\n",
    "    try:\n",
    "        # Se calcula la pseudoinversa de A para estimar s\n",
    "        s_recovered = np.linalg.pinv(A) @ b  \n",
    "        \n",
    "        # Se redondea y se reduce módulo q para obtener valores en el rango correcto\n",
    "        s_recovered = np.round(s_recovered) % q\n",
    "\n",
    "        # Se muestra el resultado obtenido\n",
    "        print(\"Clave recuperada por el ataque ingenuo:\")\n",
    "        print(s_recovered)\n",
    "\n",
    "        return s_recovered.astype(int)\n",
    "    except np.linalg.LinAlgError:\n",
    "        # En caso de que la matriz A no sea invertible, se informa el error\n",
    "        print(\"Error: No se pudo invertir la matriz A.\")\n",
    "        return None\n"
   ]
  },
  {
   "cell_type": "markdown",
   "id": "47d523c7-355f-4614-9114-63b101edee7d",
   "metadata": {},
   "source": [
    "---\n",
    "## 4. Ataque basado en aproximación con mínimos cuadrados"
   ]
  },
  {
   "cell_type": "markdown",
   "id": "470e1875-b0d4-464b-867e-1ef5156935d2",
   "metadata": {},
   "source": [
    "Este código implementa un ataque basado en la aproximación de mínimos cuadrados para intentar recuperar la clave secreta $s$. En este método, se usa la función `lstsq` de `scipy.linalg`, que resuelve el sistema $A* s ≈ b$ minimizando el error cuadrático. Luego, los valores obtenidos se redondean y se aplican módulo $q$ para ajustarlos al dominio de los coeficientes. Este enfoque es más robusto que el ataque ingenuo, pero aún puede ser ineficaz debido a la presencia del vector de error $e$, que introduce ruido en el sistema."
   ]
  },
  {
   "cell_type": "code",
   "execution_count": 58,
   "id": "43ea6f7a-5c6c-4577-975a-cf89d53be6fb",
   "metadata": {},
   "outputs": [],
   "source": [
    "# Ataque basado en aproximación con mínimos cuadrados\n",
    "def lattice_attack(A, b):\n",
    "    \"\"\"\n",
    "    Implementa un ataque basado en la aproximación de mínimos cuadrados para \n",
    "    intentar recuperar la clave secreta s resolviendo A * s ≈ b mod q.\n",
    "\n",
    "    Parámetros:\n",
    "    - A: Matriz pública utilizada en el esquema de cifrado.\n",
    "    - b: Vector resultado de la operación A * s + e mod q.\n",
    "\n",
    "    Retorna:\n",
    "    - Un vector estimado de s en el dominio ℤ_q.\n",
    "    \"\"\"\n",
    "    print(\"\\nIntento de ataque usando aproximación de mínimos cuadrados\")\n",
    "\n",
    "    # Se utiliza el método de mínimos cuadrados para encontrar la mejor aproximación de s\n",
    "    s_recovered, _, _, _ = lstsq(A, b)\n",
    "\n",
    "    # Se redondea y se reduce módulo q para obtener valores dentro del rango correcto\n",
    "    s_recovered = np.round(s_recovered) % q\n",
    "\n",
    "    # Se muestra el resultado obtenido\n",
    "    print(\"Clave recuperada por el ataque de mínimos cuadrados:\")\n",
    "    print(s_recovered)\n",
    "\n",
    "    return s_recovered.astype(int)\n"
   ]
  },
  {
   "cell_type": "markdown",
   "id": "358b8ec4-7e6b-4de3-879d-39f30fe9552a",
   "metadata": {},
   "source": [
    "---\n",
    "## 5. Ataque de reducción de reticulos"
   ]
  },
  {
   "cell_type": "markdown",
   "id": "ddbce553-6388-4b1a-bebb-2c68f1ac7416",
   "metadata": {},
   "source": [
    "Este código implementa un ataque basado en la reducción de reticulos utilizando una aproximación similar a LLL. Se amplía la matriz $A$ añadiendo una identidad escalada por $q$ para construir una base extendida. Luego, se utiliza el método de mínimos cuadrados (`lstsq`) para aproximar la solución del sistema extendido, donde se concatena $b$ con un vector de ceros. Finalmente, se redondean los primeros $k$ elementos y se aplica módulo $q$ para obtener una estimación de la clave secreta $s$. Este método explota propiedades de la teoría de redes para mejorar la aproximación en comparación con ataques más simples.\n"
   ]
  },
  {
   "cell_type": "code",
   "execution_count": 59,
   "id": "7f9d6045-7155-4fdf-a597-24625e297bd1",
   "metadata": {},
   "outputs": [],
   "source": [
    "# Ataque de reducción de redes\n",
    "def lattice_reduction_attack(A, b, q):\n",
    "    \"\"\"\n",
    "    Implementa un ataque basado en la reducción de redes, utilizando una aproximación LLL.\n",
    "    Este método intenta recuperar la clave secreta s explotando la estructura de la red \n",
    "    generada por la ecuación A * s ≈ b mod q.\n",
    "\n",
    "    Parámetros:\n",
    "    - A: Matriz pública utilizada en el esquema de cifrado.\n",
    "    - b: Vector resultado de la operación A * s + e mod q.\n",
    "    - q: Módulo primo utilizado en el esquema.\n",
    "\n",
    "    Retorna:\n",
    "    - Un vector estimado de s en el dominio ℤ_q.\n",
    "    \"\"\"\n",
    "    print(\"\\nIntento de ataque por reducción de redes (aproximación LLL)\")\n",
    "\n",
    "    # Se expande la matriz A con una identidad escalada por q para formar la base de la red\n",
    "    A_expanded = np.hstack((A, np.identity(k) * q))\n",
    "\n",
    "    # Se utiliza la técnica de mínimos cuadrados para aproximar la solución en la red\n",
    "    s_recovered, _, _, _ = lstsq(A_expanded, np.hstack((b, np.zeros((k, 1)))))\n",
    "\n",
    "    # Se toman solo los primeros k elementos y se reducen módulo q\n",
    "    s_recovered = np.round(s_recovered[:k]) % q\n",
    "\n",
    "    # Se muestra el resultado obtenido\n",
    "    print(\"Clave recuperada por reducción de redes:\")\n",
    "    print(s_recovered)\n",
    "\n",
    "    return s_recovered.astype(int)\n"
   ]
  },
  {
   "cell_type": "markdown",
   "id": "34dbf579-ed1f-41b4-871f-d46f3b10806d",
   "metadata": {},
   "source": [
    "---\n",
    "## 6. Ataque basado en aprendizaje automático"
   ]
  },
  {
   "cell_type": "markdown",
   "id": "cd35471d-9b8e-405c-ba51-bda794589edc",
   "metadata": {},
   "source": [
    "Este código implementa un ataque basado en aprendizaje automático utilizando regresión logística. Se emplea la matriz $A$ como conjunto de características de entrada ($X$) y el vector $b$ como etiquetas de salida ($y$). Se entrena un modelo de regresión logística con el «solver 'lbfgs'», configurado para un máximo de 1000 iteraciones. Una vez entrenado, el modelo predice los valores de la clave secreta $s$, que luego se ajustan al módulo $q$. Este enfoque intenta aprender una relación aproximada entre $A$ y $b$ para inferir la clave secreta basándose en patrones detectados en los datos.\n"
   ]
  },
  {
   "cell_type": "code",
   "execution_count": 60,
   "id": "936b54c4-fc2c-4065-82ad-dd9eae7f27ec",
   "metadata": {},
   "outputs": [],
   "source": [
    "# Ataque basado en aprendizaje automático\n",
    "def machine_learning_attack(A, b):\n",
    "    \"\"\"\n",
    "    Implementa un ataque basado en aprendizaje automático utilizando regresión logística.\n",
    "    El objetivo es entrenar un modelo para predecir la clave secreta s a partir de la matriz A \n",
    "    y el vector b generado en el esquema LWE.\n",
    "\n",
    "    Parámetros:\n",
    "    - A: Matriz pública utilizada como conjunto de características.\n",
    "    - b: Vector resultado de la operación A * s + e mod q.\n",
    "\n",
    "    Retorna:\n",
    "    - Un vector estimado de s en el dominio ℤ_q.\n",
    "    \"\"\"\n",
    "    print(\"\\nIntento de ataque por aprendizaje automático\")\n",
    "\n",
    "    X = A  # La matriz A actúa como el conjunto de características\n",
    "    y = b.ravel()  # El vector b se usa como etiquetas de salida\n",
    "\n",
    "    # Se entrena un modelo de regresión logística para intentar inferir la clave secreta\n",
    "    model = LogisticRegression(max_iter=1000, solver='lbfgs', multi_class='auto')\n",
    "    model.fit(X, y)\n",
    "\n",
    "    # Se predice el vector s y se reduce módulo q\n",
    "    s_recovered = model.predict(X).reshape(k, 1) % q\n",
    "\n",
    "    # Se muestra la clave estimada\n",
    "    print(\"Clave recuperada por aprendizaje automático:\")\n",
    "    print(s_recovered)\n",
    "\n",
    "    return s_recovered.astype(int)\n"
   ]
  },
  {
   "cell_type": "markdown",
   "id": "a40acf87-81e8-4051-8dc4-a53cbc47c65e",
   "metadata": {},
   "source": [
    "---\n",
    "## 7. Simulación de ataques"
   ]
  },
  {
   "cell_type": "markdown",
   "id": "d63561c2-6e2e-4f94-9055-3e6d99d72159",
   "metadata": {},
   "source": [
    "Este fragmento de código ejecuta una simulación de ataques contra el esquema de cifrado basado en Kyber. Primero, genera un par de claves: la clave pública $(b, \\text{seed}_A)$ y la clave secreta $s$. Luego, utiliza la matriz $A$ derivada de la semilla para intentar recuperar la clave secreta a través de diferentes métodos de ataque:\n",
    "\n",
    "1. **Ataque ingenuo**: Usa la pseudoinversa de $A$ para estimar $s$.\n",
    "2. **Ataque de mínimos cuadrados**: Aplica la aproximación de mínimos cuadrados para resolver $A \\cdot s = b$.\n",
    "3. **Ataque por reducción de redes**: Expande la matriz $A$ y aplica reducción de redes para mejorar la estimación de $s$.\n",
    "4. **Ataque basado en aprendizaje automático**: Utiliza regresión logística para aprender una relación entre $A$ y $b$ y predecir $s$.\n",
    "\n",
    "Finalmente, el código muestra la clave secreta real y compara los resultados de cada ataque con la clave original, indicando cuáles lograron recuperarla con éxito.\n"
   ]
  },
  {
   "cell_type": "code",
   "execution_count": 98,
   "id": "2cfa0067-ce25-4442-9213-796adaaa1ac8",
   "metadata": {},
   "outputs": [
    {
     "name": "stdout",
     "output_type": "stream",
     "text": [
      "\n",
      "========================================\n",
      "         SIMULACIÓN DEL ATAQUE          \n",
      "========================================\n",
      "\n",
      "\n",
      "========================================\n",
      "           EJECUTANDO ATAQUES           \n",
      "========================================\n",
      "\n",
      "\n",
      "Intento de ataque ingenuo: Resolver el sistema A * s = b mod q\n",
      "Clave recuperada por el ataque ingenuo:\n",
      "[[  4.]\n",
      " [748.]\n",
      " [  1.]]\n",
      "\n",
      "Intento de ataque usando aproximación de mínimos cuadrados\n",
      "Clave recuperada por el ataque de mínimos cuadrados:\n",
      "[[  4.]\n",
      " [748.]\n",
      " [  1.]]\n",
      "\n",
      "Intento de ataque por reducción de redes (aproximación LLL)\n",
      "Clave recuperada por reducción de redes:\n",
      "[[0. 0.]\n",
      " [0. 0.]\n",
      " [0. 0.]]\n",
      "\n",
      "Intento de ataque por aprendizaje automático\n",
      "Clave recuperada por aprendizaje automático:\n",
      "[[205]\n",
      " [362]\n",
      " [145]]\n",
      "\n",
      "========================================\n",
      "           CLAVE SECRETA REAL           \n",
      "========================================\n",
      "\n",
      "[[  1]\n",
      " [748]\n",
      " [  0]]\n",
      "\n",
      "========================================\n",
      "       COMPARACIÓN DE RESULTADOS        \n",
      "========================================\n",
      "\n",
      "Ataque ingenuo                                ❌ Fallo\n",
      "Ataque de mínimos cuadrados                   ❌ Fallo\n",
      "Ataque de reducción de redes                  ❌ Fallo\n",
      "Ataque de aprendizaje automático              ❌ Fallo\n",
      "\n",
      "========================================\n"
     ]
    },
    {
     "name": "stderr",
     "output_type": "stream",
     "text": [
      "/opt/miniconda3/envs/env/lib/python3.12/site-packages/sklearn/linear_model/_logistic.py:1247: FutureWarning: 'multi_class' was deprecated in version 1.5 and will be removed in 1.7. From then on, it will always use 'multinomial'. Leave it to its default value to avoid this warning.\n",
      "  warnings.warn(\n"
     ]
    }
   ],
   "source": [
    "def print_header(title):\n",
    "    print(\"\\n\" + \"=\" * 40)\n",
    "    print(f\"{title.center(40)}\")\n",
    "    print(\"=\" * 40 + \"\\n\")\n",
    "\n",
    "def print_result(label, success):\n",
    "    status = \"✅ Éxito\" if success else \"❌ Fallo\"\n",
    "    print(f\"{label.ljust(45)} {status}\")\n",
    "\n",
    "# Simulación del ataque\n",
    "print_header(\"SIMULACIÓN DEL ATAQUE\")\n",
    "(pk, sk) = key_generation()\n",
    "b, seed_A = pk\n",
    "A = generate_matrix_A(seed_A, k, q)\n",
    "\n",
    "# Ataques\n",
    "print_header(\"EJECUTANDO ATAQUES\")\n",
    "s_attempt_naive = naive_attack(A, b)\n",
    "s_attempt_lattice = lattice_attack(A, b)\n",
    "s_attempt_lattice_reduction = lattice_reduction_attack(A, b, q)\n",
    "s_attempt_ml = machine_learning_attack(A, b)\n",
    "\n",
    "# Mostrar la clave secreta real\n",
    "print_header(\"CLAVE SECRETA REAL\")\n",
    "print(sk)\n",
    "\n",
    "# Comparación con la clave recuperada\n",
    "print_header(\"COMPARACIÓN DE RESULTADOS\")\n",
    "print_result(\"Ataque ingenuo\", np.array_equal(sk, s_attempt_naive))\n",
    "print_result(\"Ataque de mínimos cuadrados\", np.array_equal(sk, s_attempt_lattice))\n",
    "print_result(\"Ataque de reducción de redes\", np.array_equal(sk, s_attempt_lattice_reduction))\n",
    "print_result(\"Ataque de aprendizaje automático\", np.array_equal(sk, s_attempt_ml))\n",
    "\n",
    "print(\"\\n\" + \"=\" * 40)\n"
   ]
  },
  {
   "cell_type": "markdown",
   "id": "ed4f1a4a-8ba1-4739-8dff-c18d82e2a4d8",
   "metadata": {},
   "source": [
    "---\n",
    "A continuacion, puede probar a cambiar los parámetros y ver sus efectos en los ataques.\n",
    "\n",
    "Algunas posibles opciones de los parámetros siguientes para ver el éxito de los ataques pueden ser:\n",
    "- Primos como: 43\t83 103 131 157 191 223 263 283\t\n",
    "- Tamaño del vector: 2, 1\n",
    "- Error: 1.0\n",
    "  \n",
    "Con estas opciones el atacante debería tener más probabilidades de éxito."
   ]
  },
  {
   "cell_type": "code",
   "execution_count": 100,
   "id": "f0856a8f-c391-4e18-adca-2bad9b3d61a0",
   "metadata": {},
   "outputs": [],
   "source": [
    "# Parámetros básicos\n",
    "q = 109  # Un número primo pequeño típico en Kyber es 3329\n",
    "k = 2  # Tamaño del vector/matriz (varía según los estándares Kyber-512, 768, 1024)\n",
    "mu_1 = 1.0  # Parámetro para la distribución de error más controlado (menor desviación estándar)"
   ]
  },
  {
   "cell_type": "code",
   "execution_count": 103,
   "id": "144e720b-fcfa-44e7-aa44-c12a77dfefec",
   "metadata": {},
   "outputs": [
    {
     "name": "stdout",
     "output_type": "stream",
     "text": [
      "\n",
      "========================================\n",
      "         SIMULACIÓN DEL ATAQUE          \n",
      "========================================\n",
      "\n",
      "\n",
      "========================================\n",
      "           EJECUTANDO ATAQUES           \n",
      "========================================\n",
      "\n",
      "\n",
      "Intento de ataque ingenuo: Resolver el sistema A * s = b mod q\n",
      "Clave recuperada por el ataque ingenuo:\n",
      "[[1.]\n",
      " [0.]]\n",
      "\n",
      "Intento de ataque usando aproximación de mínimos cuadrados\n",
      "Clave recuperada por el ataque de mínimos cuadrados:\n",
      "[[1.]\n",
      " [0.]]\n",
      "\n",
      "Intento de ataque por reducción de redes (aproximación LLL)\n",
      "Clave recuperada por reducción de redes:\n",
      "[[0. 0.]\n",
      " [0. 0.]]\n",
      "\n",
      "Intento de ataque por aprendizaje automático\n",
      "Clave recuperada por aprendizaje automático:\n",
      "[[ 2]\n",
      " [26]]\n",
      "\n",
      "========================================\n",
      "           CLAVE SECRETA REAL           \n",
      "========================================\n",
      "\n",
      "[[1]\n",
      " [0]]\n",
      "\n",
      "========================================\n",
      "       COMPARACIÓN DE RESULTADOS        \n",
      "========================================\n",
      "\n",
      "Ataque ingenuo                                ✅ Éxito\n",
      "Ataque de mínimos cuadrados                   ✅ Éxito\n",
      "Ataque de reducción de redes                  ❌ Fallo\n",
      "Ataque de aprendizaje automático              ❌ Fallo\n",
      "\n",
      "========================================\n"
     ]
    },
    {
     "name": "stderr",
     "output_type": "stream",
     "text": [
      "/opt/miniconda3/envs/env/lib/python3.12/site-packages/sklearn/linear_model/_logistic.py:1247: FutureWarning: 'multi_class' was deprecated in version 1.5 and will be removed in 1.7. From then on, it will always use 'multinomial'. Leave it to its default value to avoid this warning.\n",
      "  warnings.warn(\n"
     ]
    }
   ],
   "source": [
    "def print_header(title):\n",
    "    print(\"\\n\" + \"=\" * 40)\n",
    "    print(f\"{title.center(40)}\")\n",
    "    print(\"=\" * 40 + \"\\n\")\n",
    "\n",
    "def print_result(label, success):\n",
    "    status = \"✅ Éxito\" if success else \"❌ Fallo\"\n",
    "    print(f\"{label.ljust(45)} {status}\")\n",
    "\n",
    "# Simulación del ataque\n",
    "print_header(\"SIMULACIÓN DEL ATAQUE\")\n",
    "(pk, sk) = key_generation()\n",
    "b, seed_A = pk\n",
    "A = generate_matrix_A(seed_A, k, q)\n",
    "\n",
    "# Ataques\n",
    "print_header(\"EJECUTANDO ATAQUES\")\n",
    "s_attempt_naive = naive_attack(A, b)\n",
    "s_attempt_lattice = lattice_attack(A, b)\n",
    "s_attempt_lattice_reduction = lattice_reduction_attack(A, b, q)\n",
    "s_attempt_ml = machine_learning_attack(A, b)\n",
    "\n",
    "# Mostrar la clave secreta real\n",
    "print_header(\"CLAVE SECRETA REAL\")\n",
    "print(sk)\n",
    "\n",
    "# Comparación con la clave recuperada\n",
    "print_header(\"COMPARACIÓN DE RESULTADOS\")\n",
    "print_result(\"Ataque ingenuo\", np.array_equal(sk, s_attempt_naive))\n",
    "print_result(\"Ataque de mínimos cuadrados\", np.array_equal(sk, s_attempt_lattice))\n",
    "print_result(\"Ataque de reducción de redes\", np.array_equal(sk, s_attempt_lattice_reduction))\n",
    "print_result(\"Ataque de aprendizaje automático\", np.array_equal(sk, s_attempt_ml))\n",
    "\n",
    "print(\"\\n\" + \"=\" * 40)"
   ]
  },
  {
   "cell_type": "code",
   "execution_count": null,
   "id": "951cea55-2416-4839-8537-f6e891630200",
   "metadata": {},
   "outputs": [],
   "source": []
  }
 ],
 "metadata": {
  "kernelspec": {
   "display_name": "Python 3 (ipykernel)",
   "language": "python",
   "name": "python3"
  },
  "language_info": {
   "codemirror_mode": {
    "name": "ipython",
    "version": 3
   },
   "file_extension": ".py",
   "mimetype": "text/x-python",
   "name": "python",
   "nbconvert_exporter": "python",
   "pygments_lexer": "ipython3",
   "version": "3.12.7"
  }
 },
 "nbformat": 4,
 "nbformat_minor": 5
}
